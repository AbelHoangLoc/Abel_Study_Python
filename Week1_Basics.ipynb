{
 "cells": [
  {
   "cell_type": "code",
   "execution_count": 1,
   "id": "a14b522c-5a3b-4092-983f-b572bc5ae201",
   "metadata": {},
   "outputs": [
    {
     "name": "stdout",
     "output_type": "stream",
     "text": [
      "Hello, Python!\n"
     ]
    }
   ],
   "source": [
    "print(\"Hello, Python!\")\n"
   ]
  },
  {
   "cell_type": "code",
   "execution_count": 2,
   "id": "433def66-162c-4dc7-9f81-e06205bedd30",
   "metadata": {},
   "outputs": [],
   "source": [
    "# Số nguyên\n",
    "x = 5\n",
    "# Số thực\n",
    "pi = 3.14\n",
    "# Chuỗi\n",
    "name = \"Abel\"\n",
    "# Boolean\n",
    "is_learning = True\n"
   ]
  },
  {
   "cell_type": "code",
   "execution_count": 3,
   "id": "07ac2375-ce07-413f-a58b-20c8b5fd064c",
   "metadata": {},
   "outputs": [
    {
     "name": "stdout",
     "output_type": "stream",
     "text": [
      "13\n",
      "7\n",
      "30\n",
      "3.3333333333333335\n",
      "1000\n"
     ]
    }
   ],
   "source": [
    "a = 10\n",
    "b = 3\n",
    "\n",
    "print(a + b)  # cộng\n",
    "print(a - b)  # trừ\n",
    "print(a * b)  # nhân\n",
    "print(a / b)  # chia\n",
    "print(a ** b) # lũy thừa\n"
   ]
  },
  {
   "cell_type": "code",
   "execution_count": 4,
   "id": "8ff2099d-a98c-4976-aeba-ab4a4fc4d07a",
   "metadata": {},
   "outputs": [
    {
     "name": "stdout",
     "output_type": "stream",
     "text": [
      "My name is Abel Huang\n",
      "My hobby is reading books\n"
     ]
    }
   ],
   "source": [
    "print(\"My name is Abel Huang\")\n",
    "print(\"My hobby is reading books\")"
   ]
  },
  {
   "cell_type": "code",
   "execution_count": 5,
   "id": "3528b737-f733-4194-88b4-8b4cb41858e8",
   "metadata": {},
   "outputs": [
    {
     "name": "stdout",
     "output_type": "stream",
     "text": [
      "My name is Abel Huang\n",
      "My hobby is reading books\n"
     ]
    }
   ],
   "source": [
    "name = \"Abel Huang\"\n",
    "hobby = \"reading books\"\n",
    "\n",
    "print(\"My name is\", name)\n",
    "print(\"My hobby is\", hobby)\n"
   ]
  },
  {
   "cell_type": "code",
   "execution_count": 7,
   "id": "403a501a-82fe-4db9-a907-fb94b6929bf6",
   "metadata": {},
   "outputs": [
    {
     "ename": "SyntaxError",
     "evalue": "expression cannot contain assignment, perhaps you meant \"==\"? (3154919196.py, line 4)",
     "output_type": "error",
     "traceback": [
      "\u001b[1;36m  Cell \u001b[1;32mIn[7], line 4\u001b[1;36m\u001b[0m\n\u001b[1;33m    print(length * width=S)\u001b[0m\n\u001b[1;37m          ^\u001b[0m\n\u001b[1;31mSyntaxError\u001b[0m\u001b[1;31m:\u001b[0m expression cannot contain assignment, perhaps you meant \"==\"?\n"
     ]
    }
   ],
   "source": [
    "length=10\n",
    "width=3\n",
    "S = \"Dien tich hinh chu nhat\"\n",
    "print(length * width=S)"
   ]
  },
  {
   "cell_type": "code",
   "execution_count": 8,
   "id": "e5acacb8-bdd1-40ad-91f0-edbe4e3385a5",
   "metadata": {},
   "outputs": [
    {
     "name": "stdout",
     "output_type": "stream",
     "text": [
      "Dien tich hinh chu nhat = 30\n"
     ]
    }
   ],
   "source": [
    "length = 10\n",
    "width = 3\n",
    "S = length * width\n",
    "print(\"Dien tich hinh chu nhat =\", S)\n"
   ]
  },
  {
   "cell_type": "code",
   "execution_count": 9,
   "id": "e4a7a3f1-fb9d-4f3c-97e4-8295f052e248",
   "metadata": {},
   "outputs": [
    {
     "name": "stdin",
     "output_type": "stream",
     "text": [
      "Nhập chiều dài:  20\n",
      "Nhập chiều rộng:  10\n"
     ]
    },
    {
     "name": "stdout",
     "output_type": "stream",
     "text": [
      "Diện tích hình chữ nhật = 200\n"
     ]
    }
   ],
   "source": [
    "length = int(input(\"Nhập chiều dài: \"))\n",
    "width = int(input(\"Nhập chiều rộng: \"))\n",
    "\n",
    "S = length * width\n",
    "print(\"Diện tích hình chữ nhật =\", S)\n"
   ]
  },
  {
   "cell_type": "code",
   "execution_count": 10,
   "id": "dc19fd73-12f0-45bc-888d-c35102fed676",
   "metadata": {},
   "outputs": [
    {
     "name": "stdin",
     "output_type": "stream",
     "text": [
      "Nhập số nguyên bất kỳ:  23\n"
     ]
    },
    {
     "name": "stdout",
     "output_type": "stream",
     "text": [
      "529\n",
      "12167\n"
     ]
    }
   ],
   "source": [
    "n = int(input(\"Nhập số nguyên bất kỳ: \"))\n",
    "print(n ** 2) # lũy thừa\n",
    "print(n ** 3) # lũy thừa"
   ]
  },
  {
   "cell_type": "code",
   "execution_count": 12,
   "id": "0577d073-fffe-41b5-a35f-abd5bac48eef",
   "metadata": {},
   "outputs": [
    {
     "name": "stdin",
     "output_type": "stream",
     "text": [
      "Nhập số nguyên bất kỳ:  -115\n"
     ]
    },
    {
     "name": "stdout",
     "output_type": "stream",
     "text": [
      "Bình phương là: 13225\n",
      "Lập phương là: -1520875\n"
     ]
    }
   ],
   "source": [
    "n = int(input(\"Nhập số nguyên bất kỳ: \"))\n",
    "print(\"Bình phương là:\", n ** 2)\n",
    "print(\"Lập phương là:\", n ** 3)\n"
   ]
  },
  {
   "cell_type": "code",
   "execution_count": 16,
   "id": "42beca2d-6e95-42d3-8f4a-69f72a75a9dc",
   "metadata": {},
   "outputs": [
    {
     "name": "stdin",
     "output_type": "stream",
     "text": [
      "Nhập số thực bất kỳ:  3.14\n",
      "Nhập số thực bất kỳ:  -2.345678\n",
      "Nhập số thực bất kỳ:  8.2\n"
     ]
    },
    {
     "name": "stdout",
     "output_type": "stream",
     "text": [
      "Trung bình cộng của 3 sô là: 2.9981073333333335\n"
     ]
    }
   ],
   "source": [
    "\n",
    "a = float(input(\"Nhập số thực bất kỳ: \"))\n",
    "b = float(input(\"Nhập số thực bất kỳ: \"))\n",
    "c = float(input(\"Nhập số thực bất kỳ: \"))\n",
    "Tb = (a+b+c)/3\n",
    "print(\"Trung bình cộng của 3 sô là:\", Tb)"
   ]
  },
  {
   "cell_type": "code",
   "execution_count": 17,
   "id": "d2e02b26-e8e0-458c-b35f-8deda8bc8819",
   "metadata": {},
   "outputs": [
    {
     "name": "stdin",
     "output_type": "stream",
     "text": [
      "Nhập bán kính hình tròn (r):  3\n"
     ]
    },
    {
     "name": "stdout",
     "output_type": "stream",
     "text": [
      "Chu vi hình tròn là: 18.85\n",
      "Diện tích hình tròn là: 28.27\n"
     ]
    }
   ],
   "source": [
    "#tính chu vi và diện tích hình tròn\n",
    "import math\n",
    "\n",
    "# Nhập bán kính từ người dùng, thay dấu , bằng . nếu người dùng nhập kiểu châu Âu\n",
    "r = float(input(\"Nhập bán kính hình tròn (r): \").replace(\",\", \".\"))\n",
    "\n",
    "# Tính chu vi và diện tích\n",
    "chu_vi = 2 * math.pi * r\n",
    "dien_tich = math.pi * r ** 2\n",
    "\n",
    "# In kết quả, làm tròn đến 2 chữ số\n",
    "print(\"Chu vi hình tròn là:\", round(chu_vi, 2))\n",
    "print(\"Diện tích hình tròn là:\", round(dien_tich, 2))\n"
   ]
  },
  {
   "cell_type": "code",
   "execution_count": null,
   "id": "c282b900-c1bf-4694-9214-c6c5070d8edd",
   "metadata": {},
   "outputs": [],
   "source": []
  }
 ],
 "metadata": {
  "kernelspec": {
   "display_name": "Python [conda env:base] *",
   "language": "python",
   "name": "conda-base-py"
  },
  "language_info": {
   "codemirror_mode": {
    "name": "ipython",
    "version": 3
   },
   "file_extension": ".py",
   "mimetype": "text/x-python",
   "name": "python",
   "nbconvert_exporter": "python",
   "pygments_lexer": "ipython3",
   "version": "3.12.7"
  }
 },
 "nbformat": 4,
 "nbformat_minor": 5
}
