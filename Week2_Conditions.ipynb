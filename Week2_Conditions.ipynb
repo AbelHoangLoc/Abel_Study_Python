{
 "cells": [
  {
   "cell_type": "code",
   "execution_count": 2,
   "id": "9e33bc03-0c90-4618-9bfc-a9fb2bf496da",
   "metadata": {},
   "outputs": [
    {
     "name": "stdin",
     "output_type": "stream",
     "text": [
      "Nhập nhiệt đô thang Celsius (C):  25\n"
     ]
    },
    {
     "name": "stdout",
     "output_type": "stream",
     "text": [
      "Nhiệt độ thang độ F là: 77.0\n",
      "Nhiệt độ 25.0°C tương đương 77.0°F\n"
     ]
    }
   ],
   "source": [
    "#Chuyển đổi nhiệt độ\n",
    "# Nhập nhiệt độ thang độ C từ người dùng, thay dấu , bằng . nếu người dùng nhập kiểu châu Âu\n",
    "C = float(input(\"Nhập nhiệt đô thang Celsius (C): \").replace(\",\", \".\"))\n",
    "\n",
    "# Quy đổi từ độ C sang độ F\n",
    "F = 9/5 * C +32\n",
    "\n",
    "# In kết quả, làm tròn đến 2 chữ số\n",
    "print(\"Nhiệt độ thang độ F là:\", round(F, 2))\n",
    "print(f\"Nhiệt độ {C}°C tương đương {round(F, 2)}°F\")\n"
   ]
  },
  {
   "cell_type": "code",
   "execution_count": 5,
   "id": "2be23d72-d58b-4890-9fab-68191c1376da",
   "metadata": {},
   "outputs": [
    {
     "name": "stdin",
     "output_type": "stream",
     "text": [
      "Nhập năm sinh:  1996\n"
     ]
    },
    {
     "name": "stdout",
     "output_type": "stream",
     "text": [
      "Năm người dùng đủ 100 tuổi là năm 2096\n"
     ]
    }
   ],
   "source": [
    "#Tính năm người dùng đủ 100 tuổi\n",
    "from datetime import datetime\n",
    "year_now = datetime.now().year\n",
    "\n",
    "#Nhập năm sinh\n",
    "nam_sinh = int(input(\"Nhập năm sinh: \"))\n",
    "\n",
    "# Tính năm đủ 100 tuổi\n",
    "nam_100 = nam_sinh + 100\n",
    "\n",
    "\n",
    "# In kết quả\n",
    "print(f\"Năm người dùng đủ 100 tuổi là năm {nam_100}\")\n"
   ]
  },
  {
   "cell_type": "code",
   "execution_count": 6,
   "id": "35e49f78-5c4d-45bd-a75b-d8bd36257584",
   "metadata": {},
   "outputs": [
    {
     "name": "stdin",
     "output_type": "stream",
     "text": [
      "Nhập năm sinh của bạn:  1996\n"
     ]
    },
    {
     "name": "stdout",
     "output_type": "stream",
     "text": [
      "Tuổi hiện tại của bạn là: 29 tuổi.\n",
      "Bạn sẽ tròn 100 tuổi sau 71 năm nữa, tức là vào năm 2096.\n"
     ]
    }
   ],
   "source": [
    "from datetime import datetime\n",
    "\n",
    "# Nhập năm sinh từ người dùng\n",
    "birth_year = int(input(\"Nhập năm sinh của bạn: \"))\n",
    "\n",
    "# Lấy năm hiện tại\n",
    "year_now = datetime.now().year\n",
    "\n",
    "# Tính tuổi hiện tại\n",
    "age = year_now - birth_year\n",
    "\n",
    "# Tính số năm còn lại để đủ 100 tuổi\n",
    "years_to_100 = 100 - age\n",
    "\n",
    "# In kết quả\n",
    "print(f\"Tuổi hiện tại của bạn là: {age} tuổi.\")\n",
    "if years_to_100 > 0:\n",
    "    print(f\"Bạn sẽ tròn 100 tuổi sau {years_to_100} năm nữa, tức là vào năm {birth_year + 100}.\")\n",
    "elif years_to_100 == 0:\n",
    "    print(\"Bạn đang tròn 100 tuổi năm nay!\")\n",
    "else:\n",
    "    print(f\"Bạn đã hơn 100 tuổi được {-years_to_100} năm, bạn tròn 100 tuổi vào năm {birth_year + 100}.\")\n"
   ]
  },
  {
   "cell_type": "code",
   "execution_count": 9,
   "id": "3ec58a56-ab4a-47f8-8f1e-187e699a7838",
   "metadata": {},
   "outputs": [
    {
     "name": "stdin",
     "output_type": "stream",
     "text": [
      "Nhập số nguyên bất kỳ:  115\n"
     ]
    },
    {
     "name": "stdout",
     "output_type": "stream",
     "text": [
      "z là số lẻ\n"
     ]
    }
   ],
   "source": [
    "#Kiểm tra số chẵn hay lẻ\n",
    "\n",
    "#Nhập số nguyên bất kỳ\n",
    "z = int(input(\"Nhập số nguyên bất kỳ: \"))\n",
    "\n",
    "if z%2 == 0:\n",
    "    print(\"z là số chẵn\")\n",
    "\n",
    "if z%2 != 0:\n",
    "    print(\"z là số lẻ\")"
   ]
  },
  {
   "cell_type": "code",
   "execution_count": null,
   "id": "7b393f73-e3b3-4480-8070-0f60f731c142",
   "metadata": {},
   "outputs": [],
   "source": []
  }
 ],
 "metadata": {
  "kernelspec": {
   "display_name": "Python [conda env:base] *",
   "language": "python",
   "name": "conda-base-py"
  },
  "language_info": {
   "codemirror_mode": {
    "name": "ipython",
    "version": 3
   },
   "file_extension": ".py",
   "mimetype": "text/x-python",
   "name": "python",
   "nbconvert_exporter": "python",
   "pygments_lexer": "ipython3",
   "version": "3.12.7"
  }
 },
 "nbformat": 4,
 "nbformat_minor": 5
}
